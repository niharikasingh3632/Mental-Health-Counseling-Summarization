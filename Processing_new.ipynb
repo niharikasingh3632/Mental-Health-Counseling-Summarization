{
  "nbformat": 4,
  "nbformat_minor": 0,
  "metadata": {
    "colab": {
      "provenance": [],
      "authorship_tag": "ABX9TyPpElfB8Ep0gFNo4/jRZrcX",
      "include_colab_link": true
    },
    "kernelspec": {
      "name": "python3",
      "display_name": "Python 3"
    },
    "language_info": {
      "name": "python"
    }
  },
  "cells": [
    {
      "cell_type": "markdown",
      "metadata": {
        "id": "view-in-github",
        "colab_type": "text"
      },
      "source": [
        "<a href=\"https://colab.research.google.com/github/niharikasingh3632/Mental-Health-Counseling-Summarization/blob/main/Processing_new.ipynb\" target=\"_parent\"><img src=\"https://colab.research.google.com/assets/colab-badge.svg\" alt=\"Open In Colab\"/></a>"
      ]
    },
    {
      "cell_type": "code",
      "execution_count": 1,
      "metadata": {
        "colab": {
          "base_uri": "https://localhost:8080/"
        },
        "id": "TZh1l5ohkbNE",
        "outputId": "3b0ecc9d-d581-4c38-e553-61fea73f83ec"
      },
      "outputs": [
        {
          "output_type": "stream",
          "name": "stdout",
          "text": [
            "Mounted at /content/drive\n"
          ]
        }
      ],
      "source": [
        "# prompt: mount drive\n",
        "\n",
        "from google.colab import drive\n",
        "drive.mount('/content/drive')\n"
      ]
    },
    {
      "cell_type": "code",
      "source": [
        "import os\n",
        "import pandas as pd\n",
        "import re\n",
        "\n",
        "def preprocess_csv_files(input_path, output_path, train_file_path):\n",
        "    os.makedirs(output_path, exist_ok=True)\n",
        "    processed_file_names = []\n",
        "\n",
        "    for filename in os.listdir(input_path):\n",
        "        if filename.endswith(\".csv\"):\n",
        "            file_path = os.path.join(input_path, filename)\n",
        "\n",
        "            try:\n",
        "                df = pd.read_csv(file_path, encoding=\"utf-8\")\n",
        "                df.columns = df.columns.str.strip()\n",
        "\n",
        "                required_columns = {\"Utterance\", \"Type\"}\n",
        "                missing_columns = required_columns - set(df.columns)\n",
        "                if missing_columns:\n",
        "                    raise KeyError(f\"Missing columns in {filename}: {', '.join(missing_columns)}\")\n",
        "\n",
        "                dialogue_df = df.iloc[:-3].copy()\n",
        "                metadata_df = df.iloc[-3:].copy()\n",
        "\n",
        "                def replace_I(row):\n",
        "                    role = \"Patient\" if row[\"Type\"] == \"P\" else \"Therapist\"\n",
        "                    return re.sub(r'\\bI\\b', role, str(row[\"Utterance\"]))\n",
        "\n",
        "                dialogue_df[\"Utterance\"] = dialogue_df.apply(replace_I, axis=1)\n",
        "\n",
        "                processed_df = pd.concat([dialogue_df, metadata_df], ignore_index=True)\n",
        "\n",
        "                output_csv_path = os.path.join(output_path, filename)\n",
        "                processed_df.to_csv(output_csv_path, index=False)\n",
        "\n",
        "                # Save filename (without extension) to the list\n",
        "                processed_file_names.append(os.path.splitext(filename)[0])\n",
        "                print(f\" Processed: {filename}\")\n",
        "\n",
        "            except Exception as e:\n",
        "                raise RuntimeError(f\"Failed to process file '{filename}': {e}\")\n",
        "\n",
        "    # Save processed file names to train.txt\n",
        "    with open(train_file_path, \"w\") as f:\n",
        "        for name in processed_file_names:\n",
        "            f.write(name + \"\\n\")\n",
        "\n",
        "    print(f\"\\n All done! Saved {len(processed_file_names)} processed files.\")\n",
        "    print(f\"File list written to: {train_file_path}\")\n"
      ],
      "metadata": {
        "id": "3uX1pwHkkfcm"
      },
      "execution_count": 6,
      "outputs": []
    },
    {
      "cell_type": "code",
      "source": [
        "input_path = \"/content/drive/MyDrive/MEMO_KDD_2022/Train\"\n",
        "output_path = \"/content/drive/MyDrive/MEMO_KDD_2022/Processed_new/training\"\n",
        "train = \"/content/drive/MyDrive/MEMO_KDD_2022/Processed_new/train.txt\"\n",
        "\n",
        "preprocess_csv_files(input_path, output_path, train)\n"
      ],
      "metadata": {
        "colab": {
          "base_uri": "https://localhost:8080/"
        },
        "id": "h210E-dnkhET",
        "outputId": "a5e986b9-adc7-4637-9e16-5484870c0972"
      },
      "execution_count": 7,
      "outputs": [
        {
          "output_type": "stream",
          "name": "stdout",
          "text": [
            " Processed: 34.csv\n",
            " Processed: 48.csv\n",
            " Processed: 66.csv\n",
            " Processed: 107.csv\n",
            " Processed: 109.csv\n",
            " Processed: 110.csv\n",
            " Processed: 111.csv\n",
            " Processed: 1.csv\n",
            " Processed: 3.csv\n",
            " Processed: 5.csv\n",
            " Processed: 6.csv\n",
            " Processed: 7.csv\n",
            " Processed: 8.csv\n",
            " Processed: 10.csv\n",
            " Processed: 11.csv\n",
            " Processed: 12.csv\n",
            " Processed: 13.csv\n",
            " Processed: 14.csv\n",
            " Processed: 15.csv\n",
            " Processed: 17.csv\n",
            " Processed: 18.csv\n",
            " Processed: 20.csv\n",
            " Processed: 21.csv\n",
            " Processed: 22.csv\n",
            " Processed: 24.csv\n",
            " Processed: 25.csv\n",
            " Processed: 26.csv\n",
            " Processed: 27.csv\n",
            " Processed: 28.csv\n",
            " Processed: 29.csv\n",
            " Processed: 30.csv\n",
            " Processed: 32.csv\n",
            " Processed: 33.csv\n",
            " Processed: 35.csv\n",
            " Processed: 36.csv\n",
            " Processed: 37.csv\n",
            " Processed: 42.csv\n",
            " Processed: 43.csv\n",
            " Processed: 44.csv\n",
            " Processed: 45.csv\n",
            " Processed: 47.csv\n",
            " Processed: 49.csv\n",
            " Processed: 50.csv\n",
            " Processed: 53.csv\n",
            " Processed: 54.csv\n",
            " Processed: 55.csv\n",
            " Processed: 56.csv\n",
            " Processed: 57.csv\n",
            " Processed: 58.csv\n",
            " Processed: 60.csv\n",
            " Processed: 61.csv\n",
            " Processed: 63.csv\n",
            " Processed: 64.csv\n",
            " Processed: 65.csv\n",
            " Processed: 67.csv\n",
            " Processed: 68.csv\n",
            " Processed: 70.csv\n",
            " Processed: 73.csv\n",
            " Processed: 74.csv\n",
            " Processed: 76.csv\n",
            " Processed: 78.csv\n",
            " Processed: 80.csv\n",
            " Processed: 83.csv\n",
            " Processed: 84.csv\n",
            " Processed: 85.csv\n",
            " Processed: 89.csv\n",
            " Processed: 90.csv\n",
            " Processed: 91.csv\n",
            " Processed: 93.csv\n",
            " Processed: 88.csv\n",
            " Processed: 87.csv\n",
            " Processed: 94.csv\n",
            " Processed: 95.csv\n",
            " Processed: 96.csv\n",
            " Processed: 98.csv\n",
            " Processed: 99.csv\n",
            " Processed: 101.csv\n",
            " Processed: 103.csv\n",
            " Processed: 106.csv\n",
            " Processed: 112.csv\n",
            " Processed: 113.csv\n",
            " Processed: 115.csv\n",
            " Processed: 117.csv\n",
            " Processed: 118.csv\n",
            " Processed: 119.csv\n",
            " Processed: 120.csv\n",
            " Processed: 121.csv\n",
            " Processed: 122.csv\n",
            " Processed: 123.csv\n",
            " Processed: 128.csv\n",
            " Processed: 130.csv\n",
            " Processed: 131.csv\n",
            " Processed: 134.csv\n",
            " Processed: 135.csv\n",
            " Processed: 139.csv\n",
            " Processed: 141.csv\n",
            " Processed: 143.csv\n",
            " Processed: 146.csv\n",
            " Processed: 147.csv\n",
            " Processed: 149.csv\n",
            " Processed: 152.csv\n",
            " Processed: 155.csv\n",
            " Processed: 156.csv\n",
            " Processed: 161.csv\n",
            " Processed: 162.csv\n",
            " Processed: 169.csv\n",
            " Processed: 173.csv\n",
            " Processed: 174.csv\n",
            " Processed: 206.csv\n",
            " Processed: SummAnnotated - 210.csv\n",
            " Processed: SummAnnotated - 209.csv\n",
            " Processed: SummAnnotated - 208.csv\n",
            " Processed: SummAnnotated - 207.csv\n",
            " Processed: SummAnnotated - 205.csv\n",
            " Processed: SummAnnotated - 204.csv\n",
            " Processed: SummAnnotated - 203.csv\n",
            " Processed: SummAnnotated - 199.csv\n",
            " Processed: SummAnnotated - 197.csv\n",
            " Processed: SummAnnotated - 195.csv\n",
            " Processed: SummAnnotated - 192.csv\n",
            " Processed: SummAnnotated - 171.csv\n",
            " Processed: SummAnnotated - 170.csv\n",
            " Processed: SummAnnotated - 168.csv\n",
            " Processed: SummAnnotated - 167.csv\n",
            " Processed: 165.csv\n",
            " Processed: 163.csv\n",
            " Processed: SummAnnotated - 160.csv\n",
            " Processed: SummAnnotated - 151.csv\n",
            " Processed: SummAnnotated - 150.csv\n",
            " Processed: SummAnnotated - 125.csv\n",
            " Processed: SummAnnotated - 211.csv\n",
            "\n",
            " All done! Saved 131 processed files.\n",
            "File list written to: /content/drive/MyDrive/MEMO_KDD_2022/Processed_new/train.txt\n"
          ]
        }
      ]
    },
    {
      "cell_type": "code",
      "source": [
        "input_path = \"/content/drive/MyDrive/MEMO_KDD_2022/Validation\"\n",
        "output_path = \"/content/drive/MyDrive/MEMO_KDD_2022/Processed_new/validating\"\n",
        "train = \"/content/drive/MyDrive/MEMO_KDD_2022/Processed_new/val.txt\"\n",
        "\n",
        "preprocess_csv_files(input_path, output_path, train)\n"
      ],
      "metadata": {
        "colab": {
          "base_uri": "https://localhost:8080/"
        },
        "id": "2HaWKgR7k_B0",
        "outputId": "efea2f8d-9819-4ac7-e3e5-8e6f98b2d682"
      },
      "execution_count": 8,
      "outputs": [
        {
          "output_type": "stream",
          "name": "stdout",
          "text": [
            " Processed: 16.csv\n",
            " Processed: 19.csv\n",
            " Processed: 40.csv\n",
            " Processed: 46.csv\n",
            " Processed: 69.csv\n",
            " Processed: 72.csv\n",
            " Processed: 75.csv\n",
            " Processed: 81.csv\n",
            " Processed: 102.csv\n",
            " Processed: 116.csv\n",
            " Processed: 71.csv\n",
            " Processed: 126.csv\n",
            " Processed: 127.csv\n",
            " Processed: 133.csv\n",
            " Processed: 148.csv\n",
            " Processed: 153.csv\n",
            " Processed: 154.csv\n",
            " Processed: 157.csv\n",
            " Processed: 198.csv\n",
            " Processed: 201.csv\n",
            " Processed: 214.csv\n",
            "\n",
            " All done! Saved 21 processed files.\n",
            "File list written to: /content/drive/MyDrive/MEMO_KDD_2022/Processed_new/val.txt\n"
          ]
        }
      ]
    },
    {
      "cell_type": "code",
      "source": [
        "input_path = \"/content/drive/MyDrive/MEMO_KDD_2022/Test\"\n",
        "output_path = \"/content/drive/MyDrive/MEMO_KDD_2022/Processed_new/testing\"\n",
        "train = \"/content/drive/MyDrive/MEMO_KDD_2022/Processed_new/test.txt\"\n",
        "\n",
        "preprocess_csv_files(input_path, output_path, train)\n"
      ],
      "metadata": {
        "colab": {
          "base_uri": "https://localhost:8080/"
        },
        "id": "LxufFX1DoBli",
        "outputId": "058fe860-0ab8-4adf-c76c-f6b0374b8342"
      },
      "execution_count": 9,
      "outputs": [
        {
          "output_type": "stream",
          "name": "stdout",
          "text": [
            " Processed: 2.csv\n",
            " Processed: 4.csv\n",
            " Processed: 9.csv\n",
            " Processed: 23.csv\n",
            " Processed: 31.csv\n",
            " Processed: 38.csv\n",
            " Processed: 39.csv\n",
            " Processed: 41.csv\n",
            " Processed: 51.csv\n",
            " Processed: 52.csv\n",
            " Processed: 59.csv\n",
            " Processed: 79.csv\n",
            " Processed: 82.csv\n",
            " Processed: 86.csv\n",
            " Processed: 92.csv\n",
            " Processed: 97.csv\n",
            " Processed: 100.csv\n",
            " Processed: 104.csv\n",
            " Processed: 105.csv\n",
            " Processed: 108.csv\n",
            " Processed: 114.csv\n",
            " Processed: 124.csv\n",
            " Processed: 129.csv\n",
            " Processed: 132.csv\n",
            " Processed: 136.csv\n",
            " Processed: 137.csv\n",
            " Processed: 138.csv\n",
            " Processed: 142.csv\n",
            " Processed: 144.csv\n",
            " Processed: 145.csv\n",
            " Processed: 158.csv\n",
            " Processed: 159.csv\n",
            " Processed: 172.csv\n",
            " Processed: 176.csv\n",
            " Processed: 185.csv\n",
            " Processed: 186.csv\n",
            " Processed: 189.csv\n",
            " Processed: 191.csv\n",
            " Processed: 166.csv\n",
            "\n",
            " All done! Saved 39 processed files.\n",
            "File list written to: /content/drive/MyDrive/MEMO_KDD_2022/Processed_new/test.txt\n"
          ]
        }
      ]
    }
  ]
}